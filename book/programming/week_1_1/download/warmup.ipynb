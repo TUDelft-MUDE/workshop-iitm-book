{
 "cells": [
  {
   "cell_type": "markdown",
   "metadata": {},
   "source": [
    "# Warm-Up: Jupyter Notebooks and Python Dictionaries\n",
    "\n",
    "_This notebook was downloaded from the MUDE in Madras online textbook._\n",
    "\n",
    "The purpose of this Jupyter Notebook is to briefly review and practice a few Python concepts."
   ]
  },
  {
   "cell_type": "markdown",
   "metadata": {},
   "source": [
    "## Python Examples\n",
    "\n",
    "The rest of this page takes the opportunity to illustrate a few basic Python features.\n",
    "\n",
    "### Print statements\n",
    "\n",
    "Print statements are an essential feature of any programming language. F-strings are useful for formatting results, especially in scientific computing applications where we need to print numeric results that are defined by variables."
   ]
  },
  {
   "cell_type": "code",
   "execution_count": null,
   "metadata": {},
   "outputs": [],
   "source": [
    "x = 1.1\n",
    "my_string = 'Hello, IIT Madras!'\n",
    "print(my_string)\n",
    "print(f'Previous pages in this chapter are what we gave our students in week {x}')\n",
    "print(f'F strings are useful {x:.3f}')"
   ]
  },
  {
   "cell_type": "markdown",
   "metadata": {},
   "source": [
    "### Key Data Types\n",
    "\n",
    "Here is an illustration of key data types in Python."
   ]
  },
  {
   "cell_type": "code",
   "execution_count": null,
   "metadata": {},
   "outputs": [],
   "source": [
    "x = 3\n",
    "print(f'x is a variable with type {type(x)} and value {x}')\n",
    "x = 3.0\n",
    "print(f'x is a variable with type {type(x)} and value {x}')\n",
    "x = 'whoa'\n",
    "print(f'x is a variable with type {type(x)} and value {x}')\n",
    "x = [2, 4, 7, 4]\n",
    "print(f'x is a variable with type {type(x)} and value {x}')"
   ]
  },
  {
   "cell_type": "markdown",
   "metadata": {},
   "source": [
    "### Indexing\n",
    "\n",
    "Python starts indexing at 0, which is of course different than other languages like Matlab. Here is an illustration of how we can access and \"slice\" a list (accessing particular values). Note the 0 indexing and the colon notation, especially the reverse indexing and the fact that the slice indices are non-inclusive."
   ]
  },
  {
   "cell_type": "code",
   "execution_count": null,
   "metadata": {},
   "outputs": [],
   "source": [
    "x = [2, 5, 3, 4]\n",
    "index = 0\n",
    "print(f'The item in x with index {index} is {x[index]}')\n",
    "print(f'The first item in x is {x[0]}')\n",
    "print(f'The last item in x is {x[-1]}')\n",
    "print(f'The second through third items in x are {x[1:3]}')\n",
    "print('     ^^^            ^^^')\n",
    "print('the last one is tricky:')\n",
    "print('  - \"1:3\" means 1, 2, but not 3...')\n",
    "print('  - ... and \"1, 2\" means items 2 and 3!')"
   ]
  },
  {
   "cell_type": "markdown",
   "metadata": {},
   "source": [
    "What happens if we try to do matrix/vector manipulation with the list?"
   ]
  },
  {
   "cell_type": "code",
   "execution_count": null,
   "metadata": {},
   "outputs": [],
   "source": [
    "y = x + x\n",
    "print(y)"
   ]
  },
  {
   "cell_type": "markdown",
   "metadata": {},
   "source": [
    "That's not what we expected!\n",
    "\n",
    "There's probably a better way to do this..."
   ]
  },
  {
   "cell_type": "markdown",
   "metadata": {},
   "source": [
    "### Numpy\n",
    "\n",
    "Numpy is essential for scientific computing in Python. Here we illustrate the minimum code needed to be able to do matrix and vector calculations efficiently (in terms of code written, as well as numerically).\n",
    "\n",
    "First start by importing the Numpy library in a conventional way, as `np`. Many \"things\" are available in Numpy using the dot notation to access them. For example, the constant pi, $\\pi$."
   ]
  },
  {
   "cell_type": "code",
   "execution_count": null,
   "metadata": {},
   "outputs": [],
   "source": [
    "import numpy as np\n",
    "print(np.pi)\n",
    "print(f'Remember F strings still? Pi = {np.pi:.3f}')"
   ]
  },
  {
   "cell_type": "markdown",
   "metadata": {},
   "source": [
    "Numpy has a key data type: an \"array\" (technically an `ndarray`), which is easily created as follows:"
   ]
  },
  {
   "cell_type": "code",
   "execution_count": null,
   "metadata": {},
   "outputs": [],
   "source": [
    "y = np.array(x)\n",
    "print(f'x is a variable with type {type(x)} and value {x}')\n",
    "print(f'y is a variable with type {type(y)} and value {y}')"
   ]
  },
  {
   "cell_type": "markdown",
   "metadata": {},
   "source": [
    "Now let's try that list addition again:"
   ]
  },
  {
   "cell_type": "code",
   "execution_count": null,
   "metadata": {},
   "outputs": [],
   "source": [
    "z = y + y\n",
    "print(z)"
   ]
  },
  {
   "cell_type": "markdown",
   "metadata": {},
   "source": [
    "Great! Hopefully that is enough Python for you to get involved in the workshop activities.\n",
    "\n",
    "_For more Python fundamentals, visit our online textbook [Learn Python](https://teachbooks.io/learn-python/intro.html), which is also an interactive online textbook._"
   ]
  }
 ],
 "metadata": {
  "kernelspec": {
   "display_name": "mude-base",
   "language": "python",
   "name": "python3"
  },
  "language_info": {
   "codemirror_mode": {
    "name": "ipython",
    "version": 3
   },
   "file_extension": ".py",
   "mimetype": "text/x-python",
   "name": "python",
   "nbconvert_exporter": "python",
   "pygments_lexer": "ipython3",
   "version": "3.12.4"
  }
 },
 "nbformat": 4,
 "nbformat_minor": 2
}
