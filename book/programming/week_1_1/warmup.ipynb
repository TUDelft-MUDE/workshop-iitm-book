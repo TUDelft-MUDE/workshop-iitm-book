{
 "cells": [
  {
   "cell_type": "markdown",
   "metadata": {},
   "source": [
    "(week_1_1_warmup)=\n",
    "# Warm-Up: Jupyter Notebooks and Python Dictionaries\n",
    "\n",
    "```{custom_download_link} download/warmup.ipynb\n",
    ":text: \"Download Notebook\"\n",
    ":replace_default: \"True\"\n",
    "```\n",
    "\n",
    "```{admonition} IITM Workshop Note\n",
    ":class: warning\n",
    "\n",
    "Depending on your time available and prior experience with Python, we recognize the \"homework\" assignment may not be possible to finish. However, we hope you are at least able to understand the Python code on this page, and use it interactively with the {guilabel}`Live Code` feature {fa}`rocket`.\n",
    "\n",
    "This page was modified from the MUDE version to illustrate a few key Python concepts, especially so those that are new to Python can see some of the essentials for the workshop.\n",
    "```\n",
    "\n",
    "In this section we use a Jupyter Notebook to briefly review and practice a few Python concepts.\n",
    "\n",
    "The code on this page can be used interactively: click {fa}`rocket` --> {guilabel}`Live Code` in the top right corner, then wait until the message {guilabel}`Python interaction ready!` appears.\n",
    "\n",
    "When this page is activated a special version of Python will be loaded into your web browser that enables you to interact with this page as if it were a Jupyter Notebook. Note that package import does not work the same as it would on a \"normal\" computer, so the necessary imports have already been prepared for you.\n",
    "\n",
    "The download button {fa}`download` provides a `*.ipynb` file which you can run on your computer to make sure you have Python and Jupyter installed correctly in your IDE."
   ]
  },
  {
   "cell_type": "markdown",
   "metadata": {},
   "source": [
    "## Python Examples\n",
    "\n",
    "The rest of this page takes the opportunity to illustrate a few basic Python features.\n",
    "\n",
    "### Print statements\n",
    "\n",
    "Print statements are an essential feature of any programming language. F-strings are useful for formatting results, especially in scientific computing applications where we need to print numeric results that are defined by variables."
   ]
  },
  {
   "cell_type": "code",
   "execution_count": 3,
   "metadata": {},
   "outputs": [
    {
     "name": "stdout",
     "output_type": "stream",
     "text": [
      "Hello, IIT Madras!\n",
      "Previous pages in this chapter are what we gave our students in week 1.1\n",
      "F strings are useful 1.100\n"
     ]
    }
   ],
   "source": [
    "x = 1.1\n",
    "my_string = 'Hello, IIT Madras!'\n",
    "print(my_string)\n",
    "print(f'Previous pages in this chapter are what we gave our students in week {x}')\n",
    "print(f'F strings are useful {x:.3f}')"
   ]
  },
  {
   "cell_type": "markdown",
   "metadata": {},
   "source": [
    "### Key Data Types\n",
    "\n",
    "Here is an illustration of key data types in Python."
   ]
  },
  {
   "cell_type": "code",
   "execution_count": 7,
   "metadata": {},
   "outputs": [
    {
     "name": "stdout",
     "output_type": "stream",
     "text": [
      "x is a variable with type <class 'int'> and value 3\n",
      "x is a variable with type <class 'float'> and value 3.0\n",
      "x is a variable with type <class 'str'> and value whoa\n",
      "x is a variable with type <class 'list'> and value [2, 4, 7, 4]\n"
     ]
    }
   ],
   "source": [
    "x = 3\n",
    "print(f'x is a variable with type {type(x)} and value {x}')\n",
    "x = 3.0\n",
    "print(f'x is a variable with type {type(x)} and value {x}')\n",
    "x = 'whoa'\n",
    "print(f'x is a variable with type {type(x)} and value {x}')\n",
    "x = [2, 4, 7, 4]\n",
    "print(f'x is a variable with type {type(x)} and value {x}')"
   ]
  },
  {
   "cell_type": "markdown",
   "metadata": {},
   "source": [
    "### Indexing\n",
    "\n",
    "Python starts indexing at 0, which is of course different than other languages like Matlab. Here is an illustration of how we can access and \"slice\" a list (accessing particular values). Note the 0 indexing and the colon notation, especially the reverse indexing and the fact that the slice indices are non-inclusive."
   ]
  },
  {
   "cell_type": "code",
   "execution_count": 10,
   "metadata": {},
   "outputs": [
    {
     "name": "stdout",
     "output_type": "stream",
     "text": [
      "The item in x with index 0 is 2\n",
      "The first item in x is 2\n",
      "The last item in x is 4\n",
      "The second through third items in x are [5, 3]\n",
      "     ^^^            ^^^\n",
      "the last one is tricky:\n",
      "  - \"1:3\" means 1, 2, but not 3...\n",
      "  - ... and \"1, 2\" means items 2 and 3!\n"
     ]
    }
   ],
   "source": [
    "x = [2, 5, 3, 4]\n",
    "index = 0\n",
    "print(f'The item in x with index {index} is {x[index]}')\n",
    "print(f'The first item in x is {x[0]}')\n",
    "print(f'The last item in x is {x[-1]}')\n",
    "print(f'The second through third items in x are {x[1:3]}')\n",
    "print('     ^^^            ^^^')\n",
    "print('the last one is tricky:')\n",
    "print('  - \"1:3\" means 1, 2, but not 3...')\n",
    "print('  - ... and \"1, 2\" means items 2 and 3!')"
   ]
  },
  {
   "cell_type": "markdown",
   "metadata": {},
   "source": [
    "What happens if we try to do matrix/vector manipulation with the list?"
   ]
  },
  {
   "cell_type": "code",
   "execution_count": 12,
   "metadata": {},
   "outputs": [
    {
     "name": "stdout",
     "output_type": "stream",
     "text": [
      "[2, 5, 3, 4, 2, 5, 3, 4]\n"
     ]
    }
   ],
   "source": [
    "y = x + x\n",
    "print(y)"
   ]
  },
  {
   "cell_type": "markdown",
   "metadata": {},
   "source": [
    "That's not what we expected!\n",
    "\n",
    "There's probably a better way to do this..."
   ]
  },
  {
   "cell_type": "markdown",
   "metadata": {},
   "source": [
    "### Numpy\n",
    "\n",
    "Numpy is essential for scientific computing in Python. Here we illustrate the minimum code needed to be able to do matrix and vector calculations efficiently (in terms of code written, as well as numerically).\n",
    "\n",
    "First start by importing the Numpy library in a conventional way, as `np`. Many \"things\" are available in Numpy using the dot notation to access them. For example, the constant pi, $\\pi$."
   ]
  },
  {
   "cell_type": "code",
   "execution_count": 6,
   "metadata": {},
   "outputs": [
    {
     "name": "stdout",
     "output_type": "stream",
     "text": [
      "3.141592653589793\n",
      "Remember F strings still? Pi = 3.142\n"
     ]
    }
   ],
   "source": [
    "import numpy as np\n",
    "print(np.pi)\n",
    "print(f'Remember F strings still? Pi = {np.pi:.3f}')"
   ]
  },
  {
   "cell_type": "markdown",
   "metadata": {},
   "source": [
    "Numpy has a key data type: an \"array\" (technically an `ndarray`), which is easily created as follows:"
   ]
  },
  {
   "cell_type": "code",
   "execution_count": 13,
   "metadata": {},
   "outputs": [
    {
     "name": "stdout",
     "output_type": "stream",
     "text": [
      "x is a variable with type <class 'list'> and value [2, 5, 3, 4]\n",
      "y is a variable with type <class 'numpy.ndarray'> and value [2 5 3 4]\n"
     ]
    }
   ],
   "source": [
    "y = np.array(x)\n",
    "print(f'x is a variable with type {type(x)} and value {x}')\n",
    "print(f'y is a variable with type {type(y)} and value {y}')"
   ]
  },
  {
   "cell_type": "markdown",
   "metadata": {},
   "source": [
    "Now let's try that list addition again:"
   ]
  },
  {
   "cell_type": "code",
   "execution_count": 14,
   "metadata": {},
   "outputs": [
    {
     "name": "stdout",
     "output_type": "stream",
     "text": [
      "[ 4 10  6  8]\n"
     ]
    }
   ],
   "source": [
    "z = y + y\n",
    "print(z)"
   ]
  },
  {
   "cell_type": "markdown",
   "metadata": {},
   "source": [
    "Great! Hopefully that is enough Python for you to get involved in the workshop activities.\n",
    "\n",
    "```{tip}\n",
    "For more Python fundamentals, visit our online textbook [Learn Python](https://teachbooks.io/learn-python/intro.html), which is also an interactive online textbook.\n",
    "```"
   ]
  }
 ],
 "metadata": {
  "kernelspec": {
   "display_name": "mude-base",
   "language": "python",
   "name": "python3"
  },
  "language_info": {
   "codemirror_mode": {
    "name": "ipython",
    "version": 3
   },
   "file_extension": ".py",
   "mimetype": "text/x-python",
   "name": "python",
   "nbconvert_exporter": "python",
   "pygments_lexer": "ipython3",
   "version": "3.12.4"
  }
 },
 "nbformat": 4,
 "nbformat_minor": 2
}
