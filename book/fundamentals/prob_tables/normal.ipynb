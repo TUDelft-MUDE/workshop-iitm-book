{
 "cells": [
  {
   "cell_type": "markdown",
   "metadata": {},
   "source": [
    "(table_standardnormal)=\n",
    "# Table: Standard Normal Distribution\n",
    "\n",
    "The table shows one-sided (**right-hand**) probabilities $\\alpha$ as function of the critical value\n",
    "$k_\\alpha$, i.e. $\\alpha = P(Z\\geq k_\\alpha)$. Note that this table gives a different value than the double-tailed illustration as described in [Precision and confidence intervals](05_precision).\n",
    "\n",
    "To evalute the table for $k_\\alpha$: find the value up to the first decimal is in the first column, then find the column in the first row that most closely matches the second decimal.\n",
    "\n",
    "Example: $\\alpha$ = 0.0250 for $k_\\alpha$ = 1.96."
   ]
  },
  {
   "cell_type": "code",
   "execution_count": 1,
   "metadata": {
    "tags": [
     "thebe-remove-input-init"
    ]
   },
   "outputs": [],
   "source": [
    "from scipy.stats import norm"
   ]
  },
  {
   "attachments": {},
   "cell_type": "markdown",
   "metadata": {},
   "source": [
    "The cell below is set up to use interactively. To use it, click {fa}`rocket` --> {guilabel}`Live Code` on the top right corner of this screen and then wait until Python interaction is ready. The method `scipy.stats.norm` has already been imported as `norm`."
   ]
  },
  {
   "cell_type": "code",
   "execution_count": 12,
   "metadata": {
    "tags": [
     "thebe-init"
    ]
   },
   "outputs": [
    {
     "name": "stdout",
     "output_type": "stream",
     "text": [
      "For alpha = 0.0250, k_alpha = 1.9600.\n",
      "The probability in the upper (right-hand) tail is 2.5%.\n",
      "\n",
      "If this k_alpha defined a confidence level, it would be 5.0%,\n",
      " and the bounds would be 1.96 standard deviations from the mean.\n"
     ]
    }
   ],
   "source": [
    "alpha = 0.0250\n",
    "\n",
    "k_alpha = norm.ppf(1 - alpha)\n",
    "\n",
    "print(f\"For alpha = {alpha:.4f}, k_alpha = {k_alpha:0.4f}.\")\n",
    "print(f\"The probability in the upper (right-hand) tail is {100*alpha:.1f}%.\")\n",
    "\n",
    "print(f\"\\nIf this k_alpha defined a confidence level, it would be {100*alpha*2:.1f}%,\")\n",
    "print(f\" and the bounds would be {k_alpha:.2f} standard deviations from the mean.\")\n"
   ]
  },
  {
   "cell_type": "markdown",
   "metadata": {},
   "source": [
    "## Table of Values\n",
    "\n",
    "```{csv-table} Standard Normal Distribution, Upper-Right Tail\n",
    "   :file: normal_right.csv\n",
    "   :widths: 30, 30, 30, 30, 30, 30, 30, 30, 30, 30, 30\n",
    "   :header-rows: 1\n",
    "   :align: center\n",
    "```"
   ]
  }
 ],
 "metadata": {
  "kernelspec": {
   "display_name": "book-311",
   "language": "python",
   "name": "python3"
  },
  "language_info": {
   "codemirror_mode": {
    "name": "ipython",
    "version": 3
   },
   "file_extension": ".py",
   "mimetype": "text/x-python",
   "name": "python",
   "nbconvert_exporter": "python",
   "pygments_lexer": "ipython3",
   "version": "3.11.5"
  },
  "orig_nbformat": 4
 },
 "nbformat": 4,
 "nbformat_minor": 2
}
