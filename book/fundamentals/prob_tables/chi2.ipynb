{
 "cells": [
  {
   "attachments": {},
   "cell_type": "markdown",
   "metadata": {},
   "source": [
    "(table_chi2)=\n",
    "# Table: Central Chi-Squared Distribution\n",
    "\n",
    "The table shows one-sided (**right-hand**) probabilities $\\alpha$ as function of the critical value\n",
    "$k_\\alpha$ and the degrees of freedom, $q$, i.e. $\\alpha = P(X\\geq k_\\alpha)$ for $\\chi^2(q,0)$.\n",
    "\n",
    "<img src=\"09_chi2.png\" width=250px></img>\n",
    "\n",
    "To evaluate the table for $k_\\alpha$: find the value of $q$ in the first column, then the column for $\\alpha$ in the first row.\n",
    "\n",
    "Example: $\\alpha$ = 0.0100 and $q$ = 10 yield $k_\\alpha$ = 23.2093."
   ]
  },
  {
   "cell_type": "code",
   "execution_count": 5,
   "metadata": {
    "tags": [
     "thebe-remove-input-init"
    ]
   },
   "outputs": [],
   "source": [
    "from scipy.stats import chi2"
   ]
  },
  {
   "attachments": {},
   "cell_type": "markdown",
   "metadata": {},
   "source": [
    "The cell below is set up to use interactively. To use it, click {fa}`rocket` --> {guilabel}`Live Code` on the top right corner of this screen and then wait until Python interaction is ready. The method `scipy.stats.chi2` has already been imported as `chi2`."
   ]
  },
  {
   "cell_type": "code",
   "execution_count": 14,
   "metadata": {
    "tags": [
     "thebe-init"
    ]
   },
   "outputs": [
    {
     "name": "stdout",
     "output_type": "stream",
     "text": [
      "For alpha = 0.0100 and q = 10 degrees of freedom, k_alpha = 23.2093, \n",
      "The probability in the upper (right-hand) tail is 1.0%.\n"
     ]
    }
   ],
   "source": [
    "alpha = 0.0100\n",
    "q = 10\n",
    "\n",
    "k_alpha = chi2.ppf(1 - alpha, q)\n",
    "\n",
    "print(f\"For alpha = {alpha:.4f} and q = {q} degrees of freedom, k_alpha = {k_alpha:0.4f}, \")\n",
    "print(f\"The probability in the upper (right-hand) tail is {100*alpha:.1f}%.\")\n"
   ]
  },
  {
   "cell_type": "markdown",
   "metadata": {},
   "source": [
    "## Table of Values\n",
    "\n",
    "```{csv-table} Central Chi-Squared Distribution\n",
    "   :file: chi2_central.csv\n",
    "   :widths: 20, 20, 20,20,20,20,20,20,20,20,20,20,20\n",
    "   :header-rows: 2\n",
    "   :align: center\n",
    "```"
   ]
  }
 ],
 "metadata": {
  "kernelspec": {
   "display_name": "book-311",
   "language": "python",
   "name": "python3"
  },
  "language_info": {
   "codemirror_mode": {
    "name": "ipython",
    "version": 3
   },
   "file_extension": ".py",
   "mimetype": "text/x-python",
   "name": "python",
   "nbconvert_exporter": "python",
   "pygments_lexer": "ipython3",
   "version": "3.11.5"
  },
  "orig_nbformat": 4
 },
 "nbformat": 4,
 "nbformat_minor": 2
}
