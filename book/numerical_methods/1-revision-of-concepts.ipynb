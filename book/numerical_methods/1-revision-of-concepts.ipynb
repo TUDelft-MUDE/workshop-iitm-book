{
 "cells": [
  {
   "attachments": {},
   "cell_type": "markdown",
   "metadata": {},
   "source": [
    "# Revision of Concepts"
   ]
  },
  {
   "cell_type": "markdown",
   "metadata": {},
   "source": [
    "## Classification of Differential Equations"
   ]
  },
  {
   "attachments": {},
   "cell_type": "markdown",
   "metadata": {},
   "source": [
    "```{note}\n",
    "**Important things to retain from this block:**\n",
    "* Identify characteristics of differential equations \n",
    "* Understand how numerical and analytical solutions might differ as we get to more complex problems which need simplification\n",
    "* Remember that analytical solutions are not always possible\n",
    "```"
   ]
  },
  {
   "cell_type": "markdown",
   "metadata": {},
   "source": [
    "Differential equations can be classified as Ordinary Differential Equations (ODEs) and Partial Differential Equations (PDEs). **ODEs** have derivatives with respect to a **single** independent variable (either time **or** space), for example:  \n",
    "\n",
    "$$ \n",
    "\\frac{d x(t)}{d t} = \\cos t\n",
    "$$ \n",
    "\n",
    "describes the rate of change of the variable $x$ in **time $t$**.\n",
    "\n",
    "**PDEs** have derivatives with respect to **multiple** independent variables (often time **and** space), for example:\n",
    "\n",
    "$$ \n",
    "\\frac{\\partial c(x,t)}{\\partial t} + u\\frac{\\partial c(x,t)}{\\partial x} = 0\n",
    "$$\n",
    "describes the propagation of the concentration $c$ in **time $t$** along **dimension $x$**.\n",
    "\n",
    "The classification can be done more precisely by the equation's order and linearity (linear or non-linear). The order refers to the highest derivative while non-linear equations are those in which the dependent variable or its derivative(s) are non linear (exponential, sine or with a power different than 1). See the following examples:\n",
    "\n",
    "$$\n",
    "\\frac{d^3y}{dx^3} - x\\frac{d^2y}{dx^2} + y = 0 \\qquad \\text{third-order linear ODE}\n",
    "$$ \n",
    "\n",
    "$$\n",
    "\\frac{dy}{dx} = y^2 + x \\qquad \\text{first-order non-linear ODE}\n",
    "$$ \n",
    "\n",
    "$$\n",
    "\\frac{d^2y}{dx^2} + y\\left(\\frac{dy}{dx}\\right)^2 = \\sin(y) \\qquad \\text{second-order non-linear ODE}\n",
    "$$\n",
    "\n",
    "\n",
    "\n"
   ]
  },
  {
   "attachments": {},
   "cell_type": "markdown",
   "metadata": {},
   "source": [
    "## Analytical vs Numerical Solutions"
   ]
  },
  {
   "attachments": {},
   "cell_type": "markdown",
   "metadata": {},
   "source": [
    "Equations can be solved in two ways: analytically and numerically. The analytical solution is **exact** while a numerical solution requires computational methods to **approximate** the solution. So why would we use anything other than analytical solutions? Well, analytical solutions are difficult/impossible to find for complex equations, specially when the problem involves a complex geometry. This complexity will be treated later in the book. For now, let's illustrate analytical and numerical solutions considering a simple problem.\n",
    "\n",
    ":::{card}\n",
    "> Find the value $x$ for $f(x)=3x-2$ when $f(x) = 0$ in the interval $[0,1]$.\n",
    "\n",
    "**Analytical Solution**\n",
    "\n",
    "$$ f(x) = 0 \\Leftrightarrow 3x-2=0 \\Leftrightarrow x = \\frac{2}{3}=0.666666666666666..$$ \n",
    "\n",
    "Note that there is no need for any extra computation. You can say that there is only **one computation needed**: the assignment of the $x$ value.\n",
    "\n",
    ":::\n",
    "\n"
   ]
  },
  {
   "cell_type": "markdown",
   "metadata": {},
   "source": [
    ":::{card} **Numerical Solution**\n",
    "\n",
    "The code below shows an iterative method to find the x value. \n",
    ":::"
   ]
  },
  {
   "cell_type": "code",
   "execution_count": 1,
   "metadata": {},
   "outputs": [
    {
     "name": "stdout",
     "output_type": "stream",
     "text": [
      "Number of computations needed to find a solution 2664\n",
      "Answer x =  0.667\n"
     ]
    }
   ],
   "source": [
    "def f(x):\n",
    "    return 3*x-2\n",
    "\n",
    "dx = 0.001\n",
    "for i in range(1000):\n",
    "    x = dx*i\n",
    "    if f(x) * f(x+dx) < 0:\n",
    "        print(\"Number of computations needed to find a solution\",i*4)\n",
    "        break\n",
    "\n",
    "print(\"Answer x = \", x+dx)\n"
   ]
  },
  {
   "attachments": {},
   "cell_type": "markdown",
   "metadata": {},
   "source": [
    "Note that the 2664 computations needed is highly dependent on the method (this one is not very efficient). Here the search starts at x=0 and increases in steps of 0.001, which also limits the accuracy of the solution.\n",
    "\n",
    ":::{card}  Exercise\n",
    "\n",
    "Let us now look to another simple example:\n",
    "\n",
    "> Find the value $x$ for $f(x) = 3\\sin(x)-2$ when $f(x) = 0$ in the interval $[0,1]$.\n",
    "\n",
    "**Analytical Solution**\n",
    "\n",
    "$$ f(x) = 0 \\Leftrightarrow 3\\sin(x)-2=0 \\Leftrightarrow x = \\arcsin\\left(\\frac{2}{3}\\right) = 0.7297276562269663..$$\n",
    "\n",
    ":::"
   ]
  },
  {
   "cell_type": "markdown",
   "metadata": {},
   "source": [
    ":::{card}\n",
    "\n",
    "**Numerical Solution**\n",
    "\n",
    ":::"
   ]
  },
  {
   "cell_type": "code",
   "execution_count": 16,
   "metadata": {},
   "outputs": [
    {
     "name": "stdout",
     "output_type": "stream",
     "text": [
      "Number of computations needed to find a solution 2916\n",
      "Answer x =  0.73\n"
     ]
    }
   ],
   "source": [
    "import math\n",
    "\n",
    "def f(x):\n",
    "    return 3*math.sin(x)-2\n",
    "\n",
    "dx = 0.001\n",
    "for i in range(1000):\n",
    "    x = dx*i\n",
    "    if f(x) * f(x+dx) < 0:\n",
    "        print(\"Number of computations needed to find a solution\",i*4)\n",
    "        break\n",
    "\n",
    "print(\"Answer x = \", x+dx)"
   ]
  },
  {
   "attachments": {},
   "cell_type": "markdown",
   "metadata": {},
   "source": [
    "Note that there is no attempt to solve f(x) directly. Only the function is defined and the exact same steps of the previous problem are followed.  "
   ]
  }
 ],
 "metadata": {
  "kernelspec": {
   "display_name": "Python 3 (ipykernel)",
   "language": "python",
   "name": "python3"
  },
  "language_info": {
   "codemirror_mode": {
    "name": "ipython",
    "version": 3
   },
   "file_extension": ".py",
   "mimetype": "text/x-python",
   "name": "python",
   "nbconvert_exporter": "python",
   "pygments_lexer": "ipython3",
   "version": "3.12.1"
  }
 },
 "nbformat": 4,
 "nbformat_minor": 2
}
