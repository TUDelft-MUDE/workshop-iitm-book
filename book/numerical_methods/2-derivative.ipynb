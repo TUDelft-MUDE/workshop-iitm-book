{
 "cells": [
  {
   "cell_type": "markdown",
   "metadata": {},
   "source": [
    "# The First Derivative "
   ]
  },
  {
   "cell_type": "markdown",
   "metadata": {},
   "source": [
    "```{note}\n",
    "**Important things to retain from this block:**\n",
    "* Understand what the derivative represents\n",
    "* Recognize that the derivative can be approximated in different ways\n",
    "```"
   ]
  },
  {
   "cell_type": "markdown",
   "metadata": {},
   "source": [
    "In your calculus classes, you might remember working with the analytical definition of a derivative, such as $\\frac{df}{dx}$. This involved finding the limit as the distance between two points becomes infinitesimally small.\n",
    "\n",
    ":::{card} **Definition**:\n",
    "\n",
    " The derivative of a function $f(x)$ evaluated at the point $x_0$ is \n",
    "\n",
    "$$\n",
    "\\frac{df}{dx}\\bigg\\rvert_{x_0}=f'(x_0)=\\lim_{x \\to x_0}\\frac{f(x)-f(x_0)}{x-x_0}.\n",
    "$$\n",
    ":::\n",
    "\n",
    ":::{card} **Numerically**:\n",
    "\n",
    "$x - x_0$ **cannot tend to 0!** Thus: \n",
    " \n",
    " $$\n",
    " f'(x_0) \\approx \\frac{f(x)-f(x_0)}{\\Delta x}, \\hspace{3mm} \\text{where } \\Delta x=x-x_0. \n",
    " $$\n",
    "\n",
    ":::\n",
    "\n",
    "```{figure} figs/derivative_new2.png\n",
    ":name: derivative_new2\n",
    "\n",
    "derivatives of a function $f(x)$ at a specific points $x_0$ and $x_1$\n",
    "```\n",
    "\n",
    "\n",
    "\n",
    "**What does the derivative represents?** A rate of change! In this case, how fast $f(x)$ changes with respect to $x$ (or in the direction of $x$). The derivative can also be with respect to time or another independent variable (e.g., $y,z,t,etc$). Look at the figure above. The first derivative evaluated at $x_0$ is illustrated as a simple slope, as is the first derivative evaluated at $x_1$ . You can also see that the rate of change at $x_0$ is larger than at $x_1$.   "
   ]
  },
  {
   "cell_type": "markdown",
   "metadata": {},
   "source": [
    "## Numerical Freedom to compute derivatives\n",
    "\n",
    "\n",
    "In the Figure above, the derivative approximation was illustrated arbitarly using two points: the one at which the derivate was evaluated and another point in front of it. However, there are more possibilities. Instead of using absolute points at $x_{-1,0,1}$ a more general notation is used: $x_{i-1,i,i+1}$. The simplest ways to approximate the derivative evaluated point $x_i$ is to use two points: \n",
    "\n",
    "$$\n",
    "\\text{forward: }\\hspace{3mm} \\frac{df}{dx}\\bigg\\rvert_{x_i}\\approx\\frac{f(x_{i+1})-f(x_{i})}{x_{i+1}-x_i}  \\hspace{5mm} \\text{backward: } \\hspace{3mm} \\frac{df}{dx}\\bigg\\rvert_{x_i}\\approx\\frac{f(x_{i})-f(x_{i-1})}{x_{i}-x_{i-1}}   \\hspace{5mm} \\text{central: } \\hspace{3mm} \\frac{df}{dx}\\bigg\\rvert_{x_i}\\approx\\frac{f(x_{i+1})-f(x_{i-1})}{x_{i+1}-x_{i-1}}\n",
    "$$\n",
    "\n",
    "\n",
    "Note that the finite difference formula requires distances $x_{i+1}-x_i$ and $x_i-x_{i+1}$. This will be introduce in the next chapter 'FDM intro' and will become more evident in the 'Taylor Series Expansion chapter'. \n",
    "\n",
    "\n",
    "```{figure} figs/derivative_ways.png\n",
    ":name: derivative_ways\n",
    "\n",
    "graphs illustrating three different ways to approximate derivatives.\n",
    "```\n"
   ]
  }
 ],
 "metadata": {
  "kernelspec": {
   "display_name": "Python 3 (ipykernel)",
   "language": "python",
   "name": "python3"
  },
  "language_info": {
   "codemirror_mode": {
    "name": "ipython",
    "version": 3
   },
   "file_extension": ".py",
   "mimetype": "text/x-python",
   "name": "python",
   "nbconvert_exporter": "python",
   "pygments_lexer": "ipython3",
   "version": "3.12.1"
  }
 },
 "nbformat": 4,
 "nbformat_minor": 2
}
