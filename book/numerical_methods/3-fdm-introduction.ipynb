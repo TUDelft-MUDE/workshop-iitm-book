{
 "cells": [
  {
   "cell_type": "markdown",
   "id": "5d29672e-515e-4603-bc2f-9e0d86e7b9f6",
   "metadata": {},
   "source": [
    "# Finite Difference Method\n",
    "\n",
    "The Finite Difference Method (FDM) is an indispensable numerical approach, which plays a fundamental role in solving differential equations that govern physical phenomena. In this method, the derivatives in the differential equation are approximated using numerical differences, just like the forward, backward and central differences treated in the previous chapters. \n",
    "\n",
    "Consider the following equation that describes ice growth of an ice layer assuming that the air and water temperatures are constant: \n",
    "\n",
    "$$\n",
    "\\rho_{ice}\\frac{dh_{ice}}{dt}=-k_{ice}\\frac{T_{water}-T_{air}}{h_{ice}}\n",
    "$$\n",
    "\n",
    "where $h_{ice}$ is the ice thickness, $\\rho_{ice}$ ice density and $k_{ice}$ refers to the heat transfer capabilities of the ice. \n",
    "\n",
    "The growth rate (derivative) if the ice thickness can be approximated with one of the numerical derivatives and the resulting equation can be solved for the ice thickness in the next time step. In essence, the finite difference method transforms a differential equation into an algebraic form (discretization).\n",
    "\n",
    "Still a definition of the solution domain is needed. For this example, an inital and an end time $[a,b]$, where $a$ and $b$ are called **end points**. The domain is represented as **grid points** and therefore in a number of subintervals $N$. The length of the subinterval is $h=(b-a)/N$.\n",
    "\n",
    "\n",
    "\n",
    "```{figure} figs/finiteDifferenceMethodDomain.png\n",
    ":name: finiteDifferenceMethodDomain\n",
    "\n",
    "Discretized differential equation\n",
    "``\n"
   ]
  },
  {
   "cell_type": "markdown",
   "id": "c46c57b8-b0c3-4dc6-b070-9fb51d9ef6cd",
   "metadata": {},
   "source": [
    "The figure above shows the grid of which the following property holds:\n",
    "\n",
    "$$\n",
    "a=t_1 < t_2 < ..<t_{N}< t_{N+1}= b\n",
    "$$\n",
    "\n",
    "The Points $t_i$ on the grid are called **nodes**. Just note that your indexing is a choice. For example $i$ can be for $i  = (1,2,...,N, N+1)$ as shown in the figure above. The indexing can also start at 0 where $i = (0,1,...,N-1, N)$.\n",
    "\n",
    "Lets simplify the above ice equation and put it in a standard ODE form:\n",
    "\n",
    "$$\n",
    "\\frac{dh}{dt}= f\n",
    "$$\n",
    "\n",
    "We can rewrite this equation in a discretize form:\n",
    "\n",
    "$$\n",
    "h'_i = f_i\n",
    "$$\n",
    "\n",
    "Note that $h'_i$ is the first derivative at node $i$ and at that node is equal to function $f_i$. Using FDM we numerically compute the solution $h_i$ at each node $t_i$\n",
    "The connection between the derivative $h'_i$ and $t_i$ can be made by using **Taylor Series Expansions**."
   ]
  },
  {
   "cell_type": "markdown",
   "id": "6c8a39a6",
   "metadata": {},
   "source": []
  },
  {
   "cell_type": "markdown",
   "id": "de3eb792",
   "metadata": {},
   "source": []
  }
 ],
 "metadata": {
  "kernelspec": {
   "display_name": "Python 3 (ipykernel)",
   "language": "python",
   "name": "python3"
  },
  "language_info": {
   "codemirror_mode": {
    "name": "ipython",
    "version": 3
   },
   "file_extension": ".py",
   "mimetype": "text/x-python",
   "name": "python",
   "nbconvert_exporter": "python",
   "pygments_lexer": "ipython3",
   "version": "3.11.5"
  }
 },
 "nbformat": 4,
 "nbformat_minor": 5
}
