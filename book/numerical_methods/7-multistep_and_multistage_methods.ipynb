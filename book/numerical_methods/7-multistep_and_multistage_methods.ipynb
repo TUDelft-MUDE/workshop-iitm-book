{
 "cells": [
  {
   "cell_type": "markdown",
   "id": "6db96df8-eaed-43c3-baee-2ffd0ec9b1d8",
   "metadata": {},
   "source": [
    "# Multi-step and multi-stage methods \n",
    "\n",
    "\n",
    "### Adams-Bashfort\n",
    "\n",
    "Multi-stage methods approximate the slope in multiple stages but still are dependent **only on one point** managing to increase the accuracy but increasing heavily the computational cost. A multi-step method uses more than one point to approximate the slope. A well-known explicit method is the two-step Adams-Bashforth method:\n",
    "\n",
    "$$y_{i+1} = y_i + \\frac{\\Delta t}{2}\\left(3y'_i - y'_{i-1}\\right)$$\n",
    "\n",
    "It can be derived using TSE applied at multiple points. As you might guess by now, the more points used, the more accurate the solution will be. A problem arises at the very beginning of the solution. The explicit method above requires to solve $y_{i+1}$ that $y_i$ and $y_{i-1}$ are known. That is fine at step $y_2$ because $y_1$ and $y_0$ would already have been computed but what happens when you compute $y_1$? Then a point will be missing. That is why this multi-step methods are considered to not be self-starting. This method and also what happens when you compute $y_1$ is shown in the figure below.\n",
    "\n",
    "```{figure} figs/Adams_Bashfort.svg\n",
    ":name: Adams_Bashfort\n",
    "\n",
    "Illustrating the Adams-Bachfort method \n",
    "```\n",
    "\n",
    "\n",
    "Multi-step methods require an initialization. Either a method that requires less points is applied at the beginning (with the disadvantage that the order of error is not consistent throughout the solution) or another method is applied, one that has the same accuracy as the multi-step method but that depends on less points. This is where multi-stage methods are used. The most well-known of their kind are the Runge-Kutta methods.    \n",
    "\n",
    "There are also multi-step methods that are implicit! The most well-known are called Adams-Moulton.  \n",
    "\n",
    "### Advantages of each method\n",
    "\n",
    "Multi-step methods are easier to implement, computationally more efficient and stabler, allowing the use of larger time steps. Multi-stage methods require less points but are computationally expensive.\n",
    "\n",
    "Regardless, each method has its advantages and are generally employed based on a desired accuracy or computational efficiency. The choice, however, can often be complicated and requires thorough knowledge of the underlying mathematics. The RK4 and Adams-Bashfort have to comply with stability criteria, just as expected from any explicit method. \n",
    "\n",
    "\n",
    "### Runge-Kutta \n",
    "\n",
    "Here, it is shown how the 4th order explicit Runge-Kutta (RK4) method has four stages and the whole process only uses one single point.\n",
    "\n",
    "$$y_{i+1} = y_i + \\frac{\\Delta t}{6}(k_1+2k_2+2k_3+k_4) + \\mathcal{O}(\\Delta t^5) $$\n",
    "\n",
    "The coefficients $k$ are calculated using:\n",
    "\n",
    "$$\\begin{cases}\n",
    "k_1 &= y'_i \\\\\n",
    "k_2 &= y'_{i+1/2} \\text{ with } y_{i+1/2}=y_i+\\frac{\\Delta t}{2}k_1 \\\\\n",
    "k_3 &= y'_{i+1/2} \\text{ with } y_{i+1/2}=y_i+\\frac{\\Delta t}{2}k_2 \\\\\n",
    "k_4 &= y'_{i+1} \\text{ with } y_{i+1}=y_i+\\frac{\\Delta t}{2}k_3\n",
    "\\end{cases}$$\n",
    "\n",
    "\n",
    "```{figure} figs/Runge_Kutta.svg\n",
    ":name: Runge_Kutta\n",
    "\n",
    "Illustrating two different methods Forward Euler(on the left) and Runge-Kutta 4 (on the right)\n",
    "```\n",
    "\n"
   ]
  },
  {
   "cell_type": "markdown",
   "id": "bdc9175d",
   "metadata": {},
   "source": []
  }
 ],
 "metadata": {
  "kernelspec": {
   "display_name": "Python 3 (ipykernel)",
   "language": "python",
   "name": "python3"
  },
  "language_info": {
   "codemirror_mode": {
    "name": "ipython",
    "version": 3
   },
   "file_extension": ".py",
   "mimetype": "text/x-python",
   "name": "python",
   "nbconvert_exporter": "python",
   "pygments_lexer": "ipython3",
   "version": "3.9.12"
  }
 },
 "nbformat": 4,
 "nbformat_minor": 5
}
