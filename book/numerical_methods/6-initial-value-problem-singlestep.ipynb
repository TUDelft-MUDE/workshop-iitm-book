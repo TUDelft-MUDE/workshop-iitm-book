{
 "cells": [
  {
   "cell_type": "markdown",
   "id": "8af40e1f-099e-478b-8090-2c9bd18e776d",
   "metadata": {},
   "source": [
    "# Initial Value Problem for ODE: single-step methods\n",
    "\n",
    "The solution process of an ODE is performed by steps. In a single-step approach, the solution of the following step depends on the current one. In a multiple step method, the solution of the next step is calculated from several steps. A multiple step approach is more accurate, you can think of a similar construct as the higher-order derivatives treated previously. \n",
    "\n",
    "For first order ODEs with the general form: \n",
    "\n",
    "$$\n",
    "\\frac{dy}{dx}=f(x,y)\n",
    "$$\n",
    "\n",
    "**One initial condition is needed to find only one solution!** Without it, there would be an infinite number of solutions possible. The initial condition is:\n",
    "\n",
    "$$\n",
    "y(x_0)=y_0\n",
    "$$"
   ]
  },
  {
   "cell_type": "markdown",
   "id": "d1f46802",
   "metadata": {},
   "source": [
    "## Forward (Explicit) Euler\n",
    "\n",
    "The simplest initial value numerical integration is the Forward Euler, which is an explicit method. Although simple, it contains the basic characteristics as more advanced and accurate methods. It looks as:\n",
    "\n",
    "$$\n",
    "x_{i+1}=x_i+\\Delta x \n",
    "$$\n",
    "\n",
    "$$\n",
    "y_{i+1}=y_i+\\Delta x \\cdot slope \\rvert_i\n",
    "$$\n",
    "\n",
    "where $\\Delta x$ is the step size and the slope is a constant that approximates the rate of change of $y$ with respect to $x$ (a.k.a. the derivative) in the interval $x_i$ to $x_{i+1}$. The solution starts at $i=0$ given by the initial condition, then $i$ is increased to 1 where the values are calculated using the previous equations. This loop continues until the points cover the desired domain. **The computation of the slope is the key difference between single step methods. For forward euler, the slope is computed with the values at the current step!** \n",
    "\n",
    "\n",
    "```{figure} figs/explicit_euler.png\n",
    ":name: explicit_euler\n",
    "\n",
    "Illustrating the forward Euler method\n",
    "```\n",
    "\n"
   ]
  },
  {
   "cell_type": "markdown",
   "id": "9e6a356f",
   "metadata": {},
   "source": [
    "### Forward Euler Example\n",
    "\n",
    "Consider the following equation: \n",
    "\n",
    "$$\n",
    "\\frac{dy}{dx}= y'=-y\n",
    "$$\n",
    "We want to know the solution in the domain $[a=0,b=30]$. The **initial condition** is $y(x_0)=1$ and the step size is $\\Delta x = 0.2$.\n",
    "\n",
    "The discretization of the differential equation transforms the problem into an algebraic one. Following the formula of explicit Euler for the discretization yields: \n",
    "\n",
    "$$\n",
    "y_{i+1}= y_i + \\Delta x *y'_i\n",
    "$$\n",
    "\n",
    "In the following code, Forward Euler is implemented.\n",
    "\n",
    "\n",
    "\n"
   ]
  },
  {
   "cell_type": "code",
   "execution_count": 1,
   "id": "10e13f24",
   "metadata": {},
   "outputs": [
    {
     "data": {
      "text/plain": [
       "<matplotlib.legend.Legend at 0x1182a4c20>"
      ]
     },
     "execution_count": 1,
     "metadata": {},
     "output_type": "execute_result"
    },
    {
     "data": {
      "image/png": "[encoded data removed]",
      "text/plain": [
       "<Figure size 640x480 with 1 Axes>"
      ]
     },
     "metadata": {},
     "output_type": "display_data"
    }
   ],
   "source": [
    "import numpy as np \n",
    "import matplotlib.pyplot as plt\n",
    "\n",
    "dx = .2\n",
    "x = np.arange(0,30+dx,dx)\n",
    "y = np.zeros(len(x))\n",
    "\n",
    "##-----------------------------\n",
    "##Forward Euler Implementation\n",
    "##-----------------------------\n",
    "alpha= 1\n",
    "y[0] = 1\n",
    "for i in range(len(x)-1): \n",
    "    y[i+1] = y[i] + dx*( -alpha*y[i])\n",
    "##------------------------------\n",
    "\n",
    "y_exact = np.exp(-alpha*x)\n",
    "plt.plot(x,y_exact)\n",
    "plt.plot(x,y)\n",
    "plt.legend(['exact solution','Forward Euler solution'])\n"
   ]
  },
  {
   "cell_type": "markdown",
   "id": "cf2a8cdd",
   "metadata": {},
   "source": [
    ":::{card} Exercise \n",
    "\n",
    "The **Forward Euler** is a Finite Difference Method where it uses a grid-based approach and computes the solution at the nodes.\n",
    "\n",
    "Can you show how the Forward Euler gets derived from the Finite Difference method\n",
    "\n",
    "hint: Use the forward difference that we derived earlier in the Taylor Series Expansion [chapter](./4-taylor-series-expansion.ipynb) .\n",
    "\n",
    "```{admonition} Solution\n",
    ":class: tip, dropdown\n",
    "\n",
    "In the Taylor expansion chapter we derived the forward difference for a first derivative: \n",
    "\n",
    "$$\n",
    "f'(x_i)=\\frac{f(x_{i+1})-f(x_i)}{\\Delta x} + \\mathcal{O}(\\Delta x)\n",
    "$$\n",
    "\n",
    "$$\n",
    "\\Delta xf'(x_i)= f(x_{i+1})-f(x_i)+ \\mathcal{O}(\\Delta x)^2\n",
    "$$\n",
    "\n",
    "$$\n",
    "f(x_{i+1}) = f(x_i) + \\Delta x f'(x_i) + \\mathcal{O}(\\Delta x)^2\n",
    "$$\n",
    "\n",
    "```\n",
    "\n",
    ":::"
   ]
  },
  {
   "cell_type": "markdown",
   "id": "de736676",
   "metadata": {},
   "source": [
    ":::{card} Exercise\n",
    "\n",
    "Use the forward Euler to approximate the solution to the initial-value problem.\n",
    "\n",
    "$$\n",
    "\\frac{dy}{dt}= y^2, \\hspace{5mm}, 0\\leq t \\leq 1\n",
    "$$\n",
    "\n",
    "$$\n",
    "y(t_0)= 1\n",
    "$$\n",
    "\n",
    "with $\\Delta t=0.5$\n",
    "\n",
    "```{admonition} Solution\n",
    ":class: tip, dropdown\n",
    "\n",
    "$t_0= 0, t_1= 0.5, t_2= 1$\n",
    "\n",
    "Use the forward euler:\n",
    "\n",
    "$$\n",
    "y_{i+1}=y_i+\\Delta x \\cdot y'_{i}\n",
    "$$\n",
    "\n",
    "for i =0\n",
    "\n",
    "$$\n",
    "y_{1}=y_0+\\Delta x \\cdot y'_{0} = 1+ 0.5 \\cdot 1 = 1.5\n",
    "$$\n",
    "\n",
    "for i = 1\n",
    "\n",
    "$$\n",
    "y_{2}=y_1+\\Delta x \\cdot y'_{1} = 1.5+ 0.5 \\cdot 1.5^2 = 2.625\n",
    "$$\n",
    "\n",
    "The approximated solution is 2.625\n",
    "\n",
    "```\n",
    ":::\n"
   ]
  },
  {
   "cell_type": "markdown",
   "id": "9d2bfea3",
   "metadata": {},
   "source": [
    "## Error analysis\n",
    "\n",
    "There are two types of errors: round-off and truncation. The **round-off** error is due to the computer's limitation to represent a floating number (decimal). To illustrate it consider the following: the difference between 1 and 0.9 is 0.1. If you subtract 0.1 from itself, you should obtain 0, even if this subtraction is repeated ten thousand times. The following code demonstrates this behavior, using floating-point numbers with varying precision.  "
   ]
  },
  {
   "cell_type": "code",
   "execution_count": 4,
   "id": "74f6982f",
   "metadata": {},
   "outputs": [
    {
     "name": "stdout",
     "output_type": "stream",
     "text": [
      "Error using 16 bits of memory =  -1.220703125\n",
      "Error using 32 bits of memory =  -0.00022351741790771484\n",
      "Error using 64 bits of memory =  2.7755575615628914e-13\n"
     ]
    }
   ],
   "source": [
    "def accumulated_error(a,b,solution,iterations):\n",
    "    error = solution - np.abs(a-b) \n",
    "    error_accumulated = 0\n",
    "    for i in range(iterations):\n",
    "        error_accumulated = error_accumulated + error\n",
    "\n",
    "    return error_accumulated\n",
    "\n",
    "print('Error using 16 bits of memory = ',accumulated_error(np.float16(1.),np.float16(0.9),np.float16(0.1),10000))\n",
    "print('Error using 32 bits of memory = ',accumulated_error(np.float32(1.),np.float32(0.9),np.float32(0.1),10000))\n",
    "print('Error using 64 bits of memory = ',accumulated_error(np.float64(1.),np.float64(0.9),np.float64(0.1),10000))\n"
   ]
  },
  {
   "cell_type": "markdown",
   "id": "ee4c7ece",
   "metadata": {},
   "source": [
    "As you can see, this simple operation can give discernible errors. Imagine a computation spanning 100 years with a time step of seconds and more complex operations: the round-off error will be present! As you can see, this can be reduced by increasing the precision or the number of digits used to represent numbers but be careful, this is not free as the memory the computer uses increases as well as the computation time. \n",
    "\n",
    "The truncation error is related to the method chosen for the slopes approximation. This can be obtained using our reliable TSE as this gives the exact solution. Therefore **the truncation error per step** is \n",
    "\n",
    "$$\n",
    "\\text{Truncation error }= y^{TSE}(x_{i+1}) - y^{\\text{Forward Euler}}(x_{i+1}) \n",
    "$$\n",
    "\n",
    "$$\n",
    "\\text{Truncation error }= y(x_i)+\\Delta x y'_i  +\\frac{(\\Delta x)^2}{2!} y''_i + ... - y(x_i)-\\Delta x y'_i  \\approx \\mathcal{O}(\\Delta x^2)\n",
    "$$\n",
    "\n",
    "The **total truncation error** accounts for the number of steps as: \n",
    "\n",
    "$$\n",
    "\\text{Total truncation error } \\approx  \\sum_{i=0}^{n-1} \\frac{(\\Delta x)^2}{2!} y''_i \\approx \\frac{(\\Delta x)^2}{2!} \\frac{b-a}{\\Delta x} \\bar{y}'' \\approx \\mathcal{O}(\\Delta x) \n",
    "$$\n",
    "\n",
    "In honor to this first order total truncation error, Forward Euler is referred to as a first-order method."
   ]
  },
  {
   "cell_type": "markdown",
   "id": "845110b9-2218-49e0-a4a9-2f4dee5320b5",
   "metadata": {},
   "source": [
    "\n",
    "## Stability\n",
    "\n",
    "The error that is introduced in each step of the numerical solution ideally does not to increase as the solution advances. Under a well posed and proper solution, the error is expected to reduce with smaller steps. In some cases, the error increases without bound as the solution advances (even with smaller steps): **the solution becomes unstable**. The stability depends on the numerical method, the step size and the behavior of the differential equation. Therefore, the stability conditions will differ when applying the same numerical method to different equations. \n",
    "\n",
    "Let's consider the **stability for Forward Euler** applied to a more general form of the problem above.  \n",
    "\n",
    "$$\n",
    "\\frac{dy}{dx} = y'=-\\alpha y\n",
    "$$\n",
    "\n",
    "With initial condition $y(0)=1$ and $\\alpha>0$, the exact solution is:\n",
    "\n",
    "$$\n",
    "y^{\\text{exact}}(x_{i})=y_0 e^{-\\alpha x_{i}}\n",
    "$$\n",
    "\n",
    "The Forward Euler equivalent is \n",
    "\n",
    "$$\n",
    "y_{i+1}=y_{i}-\\alpha y_i \\Delta x=y_i(1-\\alpha \\Delta x)\n",
    "$$\n",
    "\n",
    "Following the initial steps of the numerical solution a pattern arises:\n",
    "\n",
    "$$\n",
    "y_{1}=y_0(1-\\alpha \\Delta x)\n",
    "$$\n",
    "\n",
    "$$\n",
    "y_{2}=y_1(1-\\alpha \\Delta x) =y_0(1-\\alpha \\Delta x)^2 \n",
    "$$\n",
    "\n",
    "$$\n",
    "y_{3}=y_2(1-\\alpha \\Delta x) =y_0(1-\\alpha \\Delta x)^3 \n",
    "$$\n",
    "\n",
    "$$\n",
    "y_{n}=y_0(1-\\alpha \\Delta x)^n \n",
    "$$\n",
    "\n",
    "\n",
    "Comparing this last equation with the exact solution, it can be seen that the term $(1-\\alpha \\Delta x)^n$ in the numerical solution is approximating the term $e^{-\\alpha \\Delta x_i}$ in the exact solution. The latter tends to decay with larger values of $x_i$ and positive $\\alpha$. To make sure that the term $(1-\\alpha \\Delta x)^n$ decays with larger $n$ values $1-\\alpha \\Delta x$ should be less than $|1|$, i.e.,\n",
    "\n",
    "$$\n",
    "|1-\\alpha \\Delta x| < 1 \\implies 0 < \\alpha \\Delta x < 2\n",
    "$$\n",
    "\n",
    "```{admonition} Click here for a more detailed derivation\n",
    ":class: tip, dropdown\n",
    "$$\n",
    "-1 <1-\\alpha \\Delta x < 1 \n",
    "$$\n",
    "\n",
    "Subtract 1 of both sides\n",
    "\n",
    "$$\n",
    "-2 <-\\alpha \\Delta x < 0\n",
    "$$\n",
    "\n",
    "Divide by -1\n",
    "\n",
    "$$\n",
    "0 <\\alpha \\Delta x < 2\n",
    "$$\n",
    "\n",
    "```\n",
    "\n",
    "This is the stability criterion. If not complied, then the solution will be unstable. It is said that **Forward Euler is conditionally stable! This is true for every explicit numerical method.** \n",
    "\n"
   ]
  },
  {
   "cell_type": "markdown",
   "id": "d76d9cd7",
   "metadata": {},
   "source": [
    ":::{card} Exercise\n",
    "\n",
    "Lets go back to the last example described in the code above.\n",
    "\n",
    "$$\n",
    "\\frac{dy}{dx}= y'=-y\n",
    "$$\n",
    "We want to know the solution in the domain $[a=0,b=30]$. The **initial condition** is $y(x_0)=1$ and the step size is $\\Delta x = 0.2$.\n",
    "\n",
    "What is the step size at which the problem described using the Forward Euler becomes unstable? Feel free to use the interactive figure below and change dx to test what happens when the step size becomes larger.\n",
    "\n",
    "Click `rocket` -->`Live Code` to interact with the plot below\n",
    "\n",
    ":::"
   ]
  },
  {
   "cell_type": "code",
   "execution_count": 1,
   "id": "7d408fea",
   "metadata": {
    "tags": [
     "thebe-remove-input-init",
     "auto-execute-page"
    ]
   },
   "outputs": [
    {
     "data": {
      "application/vnd.jupyter.widget-view+json": {
       "model_id": "956cdcc261904ac49a7a28a96acff293",
       "version_major": 2,
       "version_minor": 0
      },
      "text/plain": [
       "interactive(children=(FloatSlider(value=0.2, description='dx', max=3.0, min=0.01, step=0.01), Output()), _dom_…"
      ]
     },
     "metadata": {},
     "output_type": "display_data"
    }
   ],
   "source": [
    "import numpy as np \n",
    "import matplotlib.pyplot as plt\n",
    "from ipywidgets import interact\n",
    "import ipywidgets as widgets\n",
    "\n",
    "def forward_euler(dx):\n",
    "    # Define the x range and initialize y\n",
    "    x = np.arange(0, 30 + dx, dx)\n",
    "    y = np.zeros(len(x))\n",
    "    \n",
    "    # Forward Euler Implementation\n",
    "    alpha = 1\n",
    "    y[0] = 1\n",
    "    for i in range(len(x) - 1):\n",
    "        y[i + 1] = y[i] + dx * (-alpha * y[i])\n",
    "    \n",
    "    x_exact = np.arange(0, 30 + dx, 0.2)\n",
    "    # Exact solution\n",
    "    y_exact = np.exp(-alpha * x_exact)\n",
    "    \n",
    "    # Plot both solutions\n",
    "    plt.figure(figsize=(8, 5))\n",
    "    plt.plot(x_exact, y_exact, label='Exact solution', linestyle='--')\n",
    "    plt.plot(x, y, label='Forward Euler solution', marker='o')\n",
    "    plt.legend()\n",
    "    plt.title(f\"Forward Euler with dx = {dx}\")\n",
    "    plt.xlabel('x')\n",
    "    plt.ylabel('y')\n",
    "    plt.grid(True)\n",
    "    plt.show()\n",
    "\n",
    "# Create an interactive slider for dx\n",
    "interact(forward_euler, dx=widgets.FloatSlider(value=0.2, min=0.01, max=3.0, step=0.01, description='dx'));\n"
   ]
  },
  {
   "cell_type": "markdown",
   "id": "f634b3cb",
   "metadata": {},
   "source": [
    "```{admonition} Solution\n",
    ":class: tip, dropdown\n",
    "\n",
    "You can see in the interactive figure above that when the stepsize becomes larger the forward euler solution becomes less accurate. You can also see that when the step size becomes bigger then 2 the Forward Euler solution starts to blow up. This is because of the stability criteria of the Forward Euler.\n",
    "\n",
    "$$\n",
    "0 <\\alpha \\Delta x < 2\n",
    "$$\n",
    "\n",
    "When $\\alpha=1$, then $\\Delta x < 2$  (Note that $\\Delta x$ can not be negative and therefore will always be > 0 )\n",
    "\n",
    "```"
   ]
  },
  {
   "cell_type": "markdown",
   "id": "20307b08",
   "metadata": {},
   "source": [
    "## Backward (Implicit) Euler\n",
    "\n"
   ]
  },
  {
   "cell_type": "markdown",
   "id": "aad207a0",
   "metadata": {},
   "source": [
    "Just as Forward Euler is the simplest Explicit method, **Backward Euler method is the simplest implicit method**. They look very similar but the slope is computed at the next step! That's where the implicit term comes from: the slope depends on the unknown value.\n",
    "\n",
    "$$\n",
    "x_{i+1}=x_i+\\Delta x \n",
    "$$\n",
    "$$\n",
    "y_{i+1}=y_i+\\Delta x \\cdot slope \\rvert_{i+1}=y_i+\\Delta x \\cdot y'_{i+1}\n",
    "$$\n",
    "\n",
    "Let's consider the same problem as before: \n",
    "\n",
    "$$\n",
    "\\frac{dy}{dx}= y'=-\\alpha y\n",
    "$$\n",
    "We want to know the solution in the domain $[a=0,b=30]$. The **initial condition** is $y(x_0)=1$ and the step size is $\\Delta x = 0.2$.\n",
    "\n",
    "The discretization of the differential equation transforms the problem into an algebraic one. Following the formula of implicit Euler, the discretization yields: \n",
    "\n",
    "$$\n",
    "y_{i+1}= y_i - \\Delta x \\cdot \\alpha y_{i+1}\n",
    "$$\n",
    "\n",
    "then\n",
    "\n",
    "$$\n",
    "y_{i+1}+ \\Delta x \\cdot \\alpha y_{i+1} = y_i  \n",
    "$$\n",
    "\n",
    "finally\n",
    "\n",
    "$$\n",
    "y_{i+1}= y_i/(1+\\Delta x \\cdot \\alpha)  \n",
    "$$\n",
    "\n",
    "\n",
    "In the following code, Implicit Euler is implemented."
   ]
  },
  {
   "cell_type": "code",
   "execution_count": 24,
   "id": "a7ab2d34",
   "metadata": {},
   "outputs": [
    {
     "data": {
      "text/plain": [
       "<matplotlib.legend.Legend at 0x16377e990>"
      ]
     },
     "execution_count": 24,
     "metadata": {},
     "output_type": "execute_result"
    },
    {
     "data": {
      "image/png": "[encoded data removed]",
      "text/plain": [
       "<Figure size 640x480 with 1 Axes>"
      ]
     },
     "metadata": {},
     "output_type": "display_data"
    }
   ],
   "source": [
    "dx = 0.3\n",
    "x = np.arange(0,30+dx,dx)\n",
    "y = np.zeros(len(x))\n",
    "\n",
    "##-----------------------------\n",
    "##Backward Euler Implementation\n",
    "##-----------------------------\n",
    "alpha=1\n",
    "y[0] = 1\n",
    "for i in range(len(x)-1): \n",
    "    y[i+1] = y[i]/(1+dx*alpha)\n",
    "##------------------------------\n",
    "\n",
    "y_exact = np.exp(-alpha*x)\n",
    "plt.plot(x,y_exact)\n",
    "plt.plot(x,y)\n",
    "plt.legend(['exact solution','Backward Euler solution'])"
   ]
  },
  {
   "cell_type": "markdown",
   "id": "b21d8f7b",
   "metadata": {},
   "source": [
    ":::{card}\n",
    "You can see that the result is similar to Forward Euler, except that the curve for Backward Euler is slightly above than the exact solution. This makes sense as the derivative is taken to be in front, so the slope is initially underestimated while the explicit solution initially overestimated the slope. \n",
    "\n",
    "The round-off errors and truncation error are similar. Backward Euler is also a first-order method. But what about the stability? \n",
    ":::"
   ]
  },
  {
   "cell_type": "markdown",
   "id": "fda50b29",
   "metadata": {},
   "source": [
    ":::{card} Exercise:\n",
    "\n",
    "Modify the step size in the Implicit Euler code, try to make the solution unstable. What do you notice?\n",
    "\n",
    ":::"
   ]
  },
  {
   "cell_type": "code",
   "execution_count": 4,
   "id": "96e913e7",
   "metadata": {
    "tags": [
     "thebe-remove-input-init",
     "auto-execute-page"
    ]
   },
   "outputs": [],
   "source": [
    "import numpy as np \n",
    "import matplotlib.pyplot as plt\n",
    "from ipywidgets import interact\n",
    "import ipywidgets as widgets\n",
    "\n",
    "def backward_euler(dx):\n",
    "    # Define the x range and initialize y\n",
    "    x = np.arange(0, 30 + dx, dx)\n",
    "    y = np.zeros(len(x))\n",
    "    \n",
    "    ##-----------------------------\n",
    "    ##Backward Euler Implementation\n",
    "    ##-----------------------------\n",
    "    alpha=1\n",
    "    y[0] = 1\n",
    "    for i in range(len(x)-1): \n",
    "        y[i+1] = y[i]/(1+dx*alpha)\n",
    "    ##------------------------------\n",
    "    \n",
    "    x_exact = np.arange(0, 30 + dx, 0.2)\n",
    "    # Exact solution\n",
    "    y_exact = np.exp(-alpha * x_exact)\n",
    "    \n",
    "    # Plot both solutions\n",
    "    plt.figure(figsize=(8, 5))\n",
    "    plt.plot(x_exact, y_exact, label='Exact solution', linestyle='--')\n",
    "    plt.plot(x, y, label='Backward Euler solution', marker='o')\n",
    "    plt.legend()\n",
    "    plt.title(f\"Backward Euler with dx = {dx}\")\n",
    "    plt.xlabel('x')\n",
    "    plt.ylabel('y')\n",
    "    plt.grid(True)\n",
    "    plt.show()"
   ]
  },
  {
   "cell_type": "code",
   "execution_count": 6,
   "id": "d0dd13cb",
   "metadata": {
    "tags": [
     "thebe-remove-input-init"
    ]
   },
   "outputs": [
    {
     "data": {
      "application/vnd.jupyter.widget-view+json": {
       "model_id": "059cb90dffc64295b549d5dbd2a791bf",
       "version_major": 2,
       "version_minor": 0
      },
      "text/plain": [
       "interactive(children=(FloatSlider(value=0.2, description='dx', max=5.0, min=0.01, step=0.01), Output()), _dom_…"
      ]
     },
     "metadata": {},
     "output_type": "display_data"
    }
   ],
   "source": [
    "\n",
    "\n",
    "\n",
    "# Create an interactive slider for dx\n",
    "interact(backward_euler, dx=widgets.FloatSlider(value=0.2, min=0.01, max=5.0, step=0.01, description='dx'));\n"
   ]
  },
  {
   "cell_type": "markdown",
   "id": "45ab274d",
   "metadata": {},
   "source": [
    "\n",
    "\n",
    "Let's understand what happens by following the same procedure as for the stability analysis of Explicit Euler.  \n",
    "\n",
    "The exact solution is the same:\n",
    "\n",
    "$$\n",
    "y^{\\text{exact}}(x_{i})=y_0 e^{-\\alpha x_{i}}\n",
    "$$\n",
    "\n",
    "\n",
    "For the numerical solution, the numerical solution pattern is slightly different:\n",
    "\n",
    "$$\n",
    "y_{1}=y_0\\left(\\frac{1}{1+\\alpha \\Delta x}\\right)\n",
    "$$\n",
    "\n",
    "$$\n",
    "y_{2}=y_1\\left(\\frac{1}{1+\\alpha \\Delta x}\\right) =y_0\\left(\\frac{1}{1+\\alpha \\Delta x}\\right)^2\n",
    "$$\n",
    "\n",
    "$$\n",
    "y_{3}=y_2\\left(\\frac{1}{1+\\alpha \\Delta x}\\right) =y_0\\left(\\frac{1}{1+\\alpha \\Delta x}\\right)^3\n",
    "$$\n",
    "\n",
    "$$\n",
    "y_{n}=y_0\\left(\\frac{1}{1+\\alpha \\Delta x}\\right)^n\n",
    "$$\n",
    "\n",
    "This last term to the power $n$ approximates the decaying exponential in the exact solution, just like in the Explicit Euler method. Here, the only condition that must be satisfied for stability is\n",
    "\n",
    "$$\\left|\\frac{1}{1+\\alpha \\Delta x}\\right| < 1$$\n",
    "\n",
    "This can be expressed as:\n",
    "\n",
    "$$ -1 <\\frac{1}{1+\\alpha \\Delta x} < 1$$\n",
    "\n",
    "Lets first look at the right side condition $\\frac{1}{1+\\alpha \\Delta x} < 1$.\n",
    "\n",
    "If we multiply by the term $1+\\alpha \\Delta x$, we get:\n",
    "\n",
    "$$\n",
    "1 < 1+\\alpha \\Delta x\n",
    "$$\n",
    "\n",
    "As $\\alpha$ is positive and the step size must be larger than 0, the right side of the criterion is always true.\n",
    "\n",
    "Lets now look at the left side condition $-1 <\\frac{1}{1+\\alpha \\Delta x}$:\n",
    "\n",
    "We again multiply by $1+\\alpha \\Delta x$:\n",
    "\n",
    "$$\n",
    "-1 - \\alpha \\Delta x < 1\n",
    "$$\n",
    "\n",
    "Again this left side criterion always holds.\n",
    "\n",
    " Hence, **an implicit Backward Euler scheme is unconditionally stable.** This is also the case for more advanced implicit schemes."
   ]
  },
  {
   "cell_type": "markdown",
   "id": "775bbfbd",
   "metadata": {},
   "source": [
    "### Global errors\n",
    "\n",
    "The global error is the sum of round-off and total truncation errors. The plot below displays the global errors for both the Forward and Backward Euler methods, alongside the reference line representing the slope of the truncation error $\\mathcal{O}(\\Delta x)$ (1 to 1). As shown, the global errors for both methods align with the expected slope, indicating that the errors decrease in accordance with the methods' first-order accuracy.\n",
    "\n",
    "$$\n",
    "\\text{Global Error} = \\sqrt{\\frac{1}{n} \\sum_{i=1}^{n} \\left( y_i - y_{\\text{exact},i} \\right)^2}\n",
    "$$\n",
    "\n"
   ]
  },
  {
   "cell_type": "code",
   "execution_count": 2,
   "id": "ad4dbf58",
   "metadata": {},
   "outputs": [
    {
     "data": {
      "image/png": "[encoded data removed]",
      "text/plain": [
       "<Figure size 800x500 with 1 Axes>"
      ]
     },
     "metadata": {},
     "output_type": "display_data"
    }
   ],
   "source": [
    "import numpy as np\n",
    "import matplotlib.pyplot as plt\n",
    "\n",
    "def global_error(dx_values):\n",
    "    \n",
    "    errors_forward = []\n",
    "    errors_backward = []\n",
    "    \n",
    "    for dx in dx_values:\n",
    "        \n",
    "        x = np.arange(0, 30 + dx, dx)\n",
    "        y_forward = np.zeros(len(x))\n",
    "        y_backward = np.zeros(len(x))\n",
    "          \n",
    "        alpha = 1\n",
    "        y_forward[0] = 1\n",
    "        for i in range(len(x) - 1):\n",
    "            y_forward[i + 1] = y_forward[i] + dx * (-alpha * y_forward[i])\n",
    "        \n",
    "        y_backward[0] = 1\n",
    "        for i in range(len(x) - 1): \n",
    "            y_backward[i + 1] = y_backward[i] / (1 + dx * alpha)\n",
    "        \n",
    "        y_exact = np.exp(-alpha * x)\n",
    "        n= (30-0)/dx\n",
    "        # Compute the global error (L2 norm) for both methods\n",
    "        error_forward = np.sqrt((1/(n-1))*np.sum((y_forward - y_exact) ** 2))\n",
    "        error_backward = np.sqrt((1/(n-1))*np.sum((y_backward - y_exact) ** 2))\n",
    "        \n",
    "        errors_forward.append(error_forward)\n",
    "        errors_backward.append(error_backward)\n",
    "    \n",
    "    # Plot the global error vs. dx in a loglog plot for both methods\n",
    "    plt.figure(figsize=(8, 5))\n",
    "    plt.loglog(dx_values, errors_forward, label='Forward Euler Global error', marker='o')\n",
    "    plt.loglog(dx_values, errors_backward, label='Backward Euler Global error', marker='s')\n",
    "    plt.loglog(dx_values, [dx**1 for dx in dx_values], label=r'$\\mathcal{O} (\\Delta x)$', linestyle='--')\n",
    "    \n",
    "    plt.title(r\"Global error comparison: Forward vs Backward Euler\")\n",
    "    plt.xlabel(r'$\\Delta x$')\n",
    "    plt.ylabel('Global error')\n",
    "    plt.grid(True)\n",
    "    plt.legend()\n",
    "    plt.show()\n",
    "\n",
    "\n",
    "dx_values = [0.00125, 0.0025, 0.005, 0.01, 0.02, 0.04, 0.08, 0.16, 0.32, 0.64]\n",
    "# Call the function to plot the global error for both Forward and Backward Euler\n",
    "global_error(dx_values)\n"
   ]
  },
  {
   "cell_type": "markdown",
   "id": "16040463",
   "metadata": {},
   "source": [
    "## Nonlinear ODE "
   ]
  },
  {
   "cell_type": "markdown",
   "id": "d678c1ab",
   "metadata": {},
   "source": [
    "In the previous example, the explicit and implicit implementation seem to only differ in the formulation. However, this changes when treating non-linear equations. Let's see an example to identify the \"implicitness\".\n",
    "\n",
    "A certain pollutant $p$ decays over time at a rate proportional to its concentration to the power $3/2$. There is a second mechanism that produces $p$ in time and scales with $p_{cst}=1000$, $cst$ indicates a constant: \n",
    "\n",
    "$$\n",
    "\\frac{dp(t)}{dt} = -p^{3/2} + 5\\cdot p_{cst}(1-e^{-t})\n",
    "$$\n",
    "\n",
    "where $p(t)$ is the pollutant concentration in time. The initial concentration is also $p(t=0)=p_0=1000$. Solve the equation from $t=0$ until $t=0.5$ with a time step $\\Delta t=0.002\\text{ s}$. Use first the explicit Forward Euler and then the implicit Backward Euler.   \n",
    "\n",
    "The expression for the explicit Forward Euler becomes:\n",
    "\n",
    "$$\n",
    "    p_{i+1} = p_i + \\Delta t \\left ( -p_i^{3/2} + 5p_{cst}\\cdot(1-e^{-t_i}) \\right )\n",
    "$$\n",
    "\n",
    "The algorithm to solve the explicit Forward Euler is exactly the same as before.\n"
   ]
  },
  {
   "cell_type": "code",
   "execution_count": 2,
   "id": "54b58604",
   "metadata": {},
   "outputs": [
    {
     "data": {
      "text/plain": [
       "<matplotlib.legend.Legend at 0x118ba67b0>"
      ]
     },
     "execution_count": 2,
     "metadata": {},
     "output_type": "execute_result"
    },
    {
     "data": {
      "image/png": "[encoded data removed]",
      "text/plain": [
       "<Figure size 640x480 with 1 Axes>"
      ]
     },
     "metadata": {},
     "output_type": "display_data"
    }
   ],
   "source": [
    "import numpy as np \n",
    "import matplotlib.pyplot as plt\n",
    "\n",
    "dt = 0.0002\n",
    "t = np.arange(0,1+dt,dt)\n",
    "p = np.zeros(len(t))\n",
    "\n",
    "##-----------------------------\n",
    "##Explicit Euler Implementation\n",
    "##-----------------------------\n",
    "p_cst = 1000\n",
    "p[0] = p_cst\n",
    "for i in range(len(t)-1): \n",
    "    p[i+1] = p[i] + dt*( -p[i]**(3/2) + 5*p_cst*(1-np.exp(-t[i])))\n",
    "##------------------------------\n",
    "\n",
    "plt.plot(t,p)\n",
    "plt.legend(['Forward Euler solution'])"
   ]
  },
  {
   "cell_type": "markdown",
   "id": "f7472c21",
   "metadata": {},
   "source": [
    "Now, using the implicit Backward Euler, the expression becomes:\n",
    "\n",
    "$$\n",
    "    p_{i+1} = p_i + \\Delta t \\left ( -p_{i+1}^{3/2} + 5p_{cst}*(1-e^{-t_{i+1}}) \\right )\n",
    "$$\n",
    "\n",
    "Obtaining the solution requires a different procedure because now the unknown $p_{i+1}$ appears in both sides of the equation and cannot be solved directly instead an iterative procedure is needed! For example, a widely use method like Newton Rhapson."
   ]
  },
  {
   "cell_type": "markdown",
   "id": "3b3e391d",
   "metadata": {},
   "source": [
    "### Newton-Raphson Method\n",
    "\n",
    "In the Observation Theory week, you used Gauss-Newton to solve a non-linear least square problem. That method is actually an extension of the Newton-Rhapson method. Here, it is described with an emphasis in the tricky aspects. Also, the algorithm is summarized and its main advantages and disadvantages are mentioned.\n",
    "\n",
    "Think of a function $g(z)=0$. Its solution is graphically represented as the intersection of $g(z)$ with the $z$ axis (see the Figure below). Numerically that solution can be found by selecting an initial guess $z_0$, estimating the tangent (slope) $g'(z_0)$ and finding its intersection with the $z$ axis, which indicates the value $z_1$. Now, the solution is closer. We repeat this process to find $z_2$ but now the guess is $z_1$. The process is repeated until the value $g(z_*)$ is very small: $|g(z_*)<\\epsilon|$. Here, $\\epsilon$ is the tolerance e.g., $\\epsilon=10^{-6}$ (see the red square in the Figure below).\n",
    "\n",
    "\n",
    "```{figure} figs/newton-rhapson.svg\n",
    ":name: newton-rhapson\n",
    "\n",
    "Illustrating the Newton-rhapson method\n",
    "```\n",
    "\n",
    "### Some remarks:\n",
    "\n",
    "\n",
    "Finding the point $z_{j+1}$ where the tangent crosses the $z$-axis is done following an approximation of first order of $g'(z_j)$:\n",
    "\n",
    "$$\n",
    "g'(z_{j}) = \\frac{g(z_j)-0}{z_{j}-z_{j+1}}\n",
    "$$\n",
    "\n",
    "solving for $z_{j+1}$ gives the expression\n",
    "\n",
    "$$\n",
    "z_{j+1} = z_j - \\frac{g(z_j)}{g'(z_j)}.\n",
    "$$\n",
    "\n",
    "Look at the implicit Backward Euler approximation of the pollutant problem. We can rewrite it to be $g(z)=q(p_{i+1})=0$ as follows:\n",
    "\n",
    "$$\n",
    "    p_{i+1} - p_i - \\Delta t \\left ( -p_{i+1}^{3/2} + 5p_{cst} \\cdot (1-e^{-t_{i+1}}) \\right ) = 0\n",
    "$$\n",
    "\n",
    "and $g'(z)=q'(p_{i+1})$ is its derivative:\n",
    "\n",
    "$$\n",
    "    g'(z)=q'(p_{i+1}) = 1 + \\frac{3}{2} \\Delta t  p_{i+1}^{1/2}  \n",
    "$$\n",
    "\n",
    "Finally, the expression used to iterate is\n",
    "\n",
    "$$\n",
    "p_{i+1}^{j+1} = p_{i+1}^j - \\frac{p_{i+1}^j - p_i - \\Delta t \\left ( (-p_{i+1}^j)^{3/2} + 5p_{cst} \\cdot(1-e^{-t_{i+1}}) \\right )}{1 + \\frac{3}{2} \\Delta t  (p_{i+1}^j)^{1/2}}\n",
    "$$\n",
    "\n",
    "Notice that the subscript $i$ relates to the time steps of the backward Euler method and the superscript $j$ relates to the Newton-Raphson iteration, where $p_{i+1}^j$ when $j=0$ is the initial guess ($p_{i+1}^0)$! The solution is found and the iteration stops at $j=m$, once $|g(z)=q(p_{i+1},m)|<\\epsilon$. \n",
    "\n",
    "**The Newton-Raphson method:**\n",
    "\n",
    "- Converges quickly and can provide highly accurate approximations.\n",
    "\n",
    "- It can be used for both real and complex roots.\n",
    "\n",
    "**But the method also has its limitations:**\n",
    "\n",
    "- It may not converge if the initial guess is far from the actual value or if the function is discontinuous near the value.\n",
    "\n",
    "- The derivative of the function is needed, which may not always be known.\n"
   ]
  },
  {
   "cell_type": "markdown",
   "id": "1b792248",
   "metadata": {},
   "source": [
    "\n",
    "\n",
    "### Pseudo code: The Backward-Euler-Newton-Raphson Algorithm\n",
    "\n",
    "\n",
    "$$\n",
    "p' = -p^{3/2} + 5 \\cdot p_{\\text{cst}}(1 - e^{-t}), \\hspace{5mm} p(t_0) = p_0\n",
    "$$\n",
    "\n",
    "#### Backward Euler Scheme:\n",
    "\n",
    "The update equation for $p_{i+1}$ is given by:\n",
    "\n",
    "$$\n",
    "p_{i+1} = p_i + \\Delta t \\left( -p_{i+1}^{3/2} + 5 \\cdot p_{\\text{cst}} \\cdot (1 - e^{-t_{i+1}}) \\right)\n",
    "$$\n",
    "\n",
    "We solve for $p_{i+1}$ at $t_i$, for $i = 0, 1, \\dots, m$ using Newton-Raphson.\n",
    "\n",
    "#### Newton-Raphson Method:\n",
    "\n",
    "$$\n",
    "g(z) = p_{i+1}^j - p_i - \\Delta t \\left( - (p_{i+1}^j)^{3/2} + 5 \\cdot p_{\\text{cst}} \\cdot (1 - e^{-t_{i+1}}) \\right)\n",
    "$$\n",
    "\n",
    "The iteration for $p_{i+1}$ is as follows:\n",
    "\n",
    "- Initialize: $p_{i+1}^{(0)} = p_i$\n",
    "- Set $j = 0$\n",
    "- **while** $\\left| g(p_{i+1}^j) \\right| > \\epsilon$ **do**:\n",
    "  - Update $p_{i+1}^{j+1}$ using the Newton-Raphson formula:\n",
    "\n",
    "    $$\n",
    "    p_{i+1}^{j+1} = p_{i+1}^j - \\frac{p_{i+1}^j - p_i - \\Delta t \\left( - (p_{i+1}^j)^{3/2} + 5 \\cdot p_{\\text{cst}} \\cdot (1 - e^{-t_{i+1}}) \\right)}\n",
    "    {1 + \\frac{3}{2} \\Delta t \\cdot (p_{i+1}^j)^{1/2}}\n",
    "    $$\n",
    "    \n",
    "  - Increment $j = j + 1$\n",
    "\n",
    "\n",
    "- Set $p_{i+1} = p_{i+1}^{j}$\n",
    "\n",
    "Finally, update $p_{i+1}$ using the Backward Euler formula:\n",
    "\n",
    "$$\n",
    "p_{i+1} = p_i + \\Delta t \\left( -p_{i+1}^{3/2} + 5 \\cdot p_{\\text{cst}} \\cdot (1 - e^{-t_{i+1}}) \\right)\n",
    "$$\n",
    "\n"
   ]
  },
  {
   "cell_type": "markdown",
   "id": "0e7c3322",
   "metadata": {},
   "source": []
  }
 ],
 "metadata": {
  "kernelspec": {
   "display_name": "Python 3 (ipykernel)",
   "language": "python",
   "name": "python3"
  },
  "language_info": {
   "codemirror_mode": {
    "name": "ipython",
    "version": 3
   },
   "file_extension": ".py",
   "mimetype": "text/x-python",
   "name": "python",
   "nbconvert_exporter": "python",
   "pygments_lexer": "ipython3",
   "version": "3.12.1"
  }
 },
 "nbformat": 4,
 "nbformat_minor": 5
}
